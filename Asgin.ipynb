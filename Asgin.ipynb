{
 "cells": [
  {
   "cell_type": "code",
   "execution_count": 1,
   "id": "8722dc52",
   "metadata": {},
   "outputs": [
    {
     "name": "stdout",
     "output_type": "stream",
     "text": [
      "Your age is: 70\n"
     ]
    }
   ],
   "source": [
    "\n",
    "# Asginment # 1 \n",
    "# NAVTTC # BATCH 2 Big Data Analytic \n",
    "\n",
    "b_year = int(input(\"Enter your birth year (YYYY): \"))\n",
    "b_month = int(input(\"Enter your birth month (1-12): \"))\n",
    "b_day = int(input(\"Enter your birth day (1-31): \"))\n",
    "\n",
    "\n",
    "\n",
    "\n",
    "# start with difference in years\n",
    "age = t_year - b_year\n",
    "\n",
    "# check if birthday has happened this year\n",
    "if (t_month < b_month) or (t_month == b_month and t_day < b_day):\n",
    "    age -= 1\n",
    "\n",
    "# output\n",
    "print(\"Your age is:\", age)"
   ]
  },
  {
   "cell_type": "code",
   "execution_count": 1,
   "id": "94301e61",
   "metadata": {},
   "outputs": [
    {
     "name": "stdout",
     "output_type": "stream",
     "text": [
      "You are:\n",
      "12 years old\n",
      "144 months old\n",
      "4380 days old\n"
     ]
    }
   ],
   "source": [
    "\n",
    "age = int(input(\"Enter your age in years: \"))\n",
    "\n",
    "months = age * 12\n",
    "days = age * 365  \n",
    "\n",
    "# Show results\n",
    "print(\"You are:\")\n",
    "print(age, \"years old\")\n",
    "print(months, \"months old\")\n",
    "print(days, \"days old\")\n"
   ]
  },
  {
   "cell_type": "code",
   "execution_count": 2,
   "id": "3355b16d",
   "metadata": {},
   "outputs": [
    {
     "name": "stdout",
     "output_type": "stream",
     "text": [
      "['Ali', 'Sana', 'Nadia']\n",
      "Ali\n",
      "Sana\n",
      "['Ali', 'Ayesha', 'Nadia']\n",
      "['Ali', 'Ayesha', 'Nadia', 'Omar']\n",
      "['Ayesha', 'Nadia', 'Omar']\n",
      "3\n"
     ]
    }
   ],
   "source": [
    "# Creating a list of student names\n",
    "students = [\"Ali\", \"Sana\", \"Nadia\"]\n",
    "\n",
    "# Printing the whole list\n",
    "print(students)            # ['Ali', 'Sana', 'Nadia']\n",
    "\n",
    "# Accessing items using index\n",
    "print(students[0])         # Ali\n",
    "print(students[1])         # Sana\n",
    "\n",
    "# Changing an item in the list\n",
    "students[1] = \"Ayesha\"\n",
    "print(students)            # ['Ali', 'Ayesha', 'Nadia']\n",
    "\n",
    "# Adding a new student\n",
    "students.append(\"Omar\")\n",
    "print(students)            # ['Ali', 'Ayesha', 'Nadia', 'Omar']\n",
    "\n",
    "# Removing a student\n",
    "students.remove(\"Ali\")\n",
    "print(students)            # ['Ayesha', 'Nadia', 'Omar']\n",
    "\n",
    "# Length of the list\n",
    "print(len(students))       # 3\n"
   ]
  },
  {
   "cell_type": "code",
   "execution_count": null,
   "id": "1190e1b1",
   "metadata": {},
   "outputs": [
    {
     "name": "stdout",
     "output_type": "stream",
     "text": [
      "('Ali', 'Sana', 'Nadia')\n",
      "Ali\n",
      "Sana\n",
      "3\n",
      "1\n",
      "2\n"
     ]
    }
   ],
   "source": [
    "# Creating a tuple of student names tuble task and List example check \n",
    "students = (\"Ali\", \"Sana\", \"Nadia\")\n",
    "\n",
    "# Printing the whole tuple\n",
    "print(students)             # ('Ali', 'Sana', 'Nadia') # with different \n",
    "\n",
    "# Accessing items using index\n",
    "print(students[0])          # Ali\n",
    "print(students[1])          # Sana\n",
    "\n",
    "# Length of the tuple\n",
    "print(len(students))        # 3   # length accoding \n",
    "\n",
    "# Count how many times a name appears\n",
    "print(students.count(\"Ali\"))  # 1\n",
    "\n",
    "# Find index of a name\n",
    "print(students.index(\"Nadia\")) # 2\n"
   ]
  }
 ],
 "metadata": {
  "kernelspec": {
   "display_name": "Python 3",
   "language": "python",
   "name": "python3"
  },
  "language_info": {
   "codemirror_mode": {
    "name": "ipython",
    "version": 3
   },
   "file_extension": ".py",
   "mimetype": "text/x-python",
   "name": "python",
   "nbconvert_exporter": "python",
   "pygments_lexer": "ipython3",
   "version": "3.13.7"
  }
 },
 "nbformat": 4,
 "nbformat_minor": 5
}
